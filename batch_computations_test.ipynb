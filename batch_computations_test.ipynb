{
 "cells": [
  {
   "cell_type": "code",
   "execution_count": 267,
   "metadata": {
    "collapsed": false
   },
   "outputs": [
    {
     "name": "stdout",
     "output_type": "stream",
     "text": [
      "Populating the interactive namespace from numpy and matplotlib\n"
     ]
    }
   ],
   "source": [
    "# Libraries:\n",
    "import pandas as pd\n",
    "import numpy as np\n",
    "from __future__ import division\n",
    "from sklearn.feature_extraction import DictVectorizer\n",
    "from sklearn.preprocessing import LabelEncoder\n",
    "import matplotlib.pyplot as plt\n",
    "#plt.style.use('fivethirtyeight')\n",
    "%pylab inline\n",
    "import time\n",
    "import joblib"
   ]
  },
  {
   "cell_type": "code",
   "execution_count": 74,
   "metadata": {
    "collapsed": true
   },
   "outputs": [],
   "source": [
    "# Config:\n",
    "# In order to display all the columns:\n",
    "pd.options.display.max_columns = 100\n",
    "pd.options.display.max_rows = 100"
   ]
  },
  {
   "cell_type": "markdown",
   "metadata": {},
   "source": [
    "### FUNCTIONS"
   ]
  },
  {
   "cell_type": "code",
   "execution_count": 3,
   "metadata": {
    "collapsed": false
   },
   "outputs": [],
   "source": [
    "# Functions to put data in the correct format for estimation:\n",
    "def get_set_tags(dataframe):\n",
    "    # Use this function to get the set of tags in the document:\n",
    "    user_tags=dataframe.usertag\n",
    "    list_tags=[]\n",
    "    for i in user_tags:\n",
    "        for j in i.split(','):\n",
    "            list_tags.append(j)\n",
    "    set_tags=list(set(list_tags))\n",
    "    return set_tags\n",
    "# removing the null tags:\n",
    "def remove_objects(list_values,obj=\"null\"):\n",
    "    return [x for x in list_values if x != obj]\n",
    "\n",
    "# Functions to separate the usertag columns:\n",
    "def create_tag_index_dictio(training_df,column=\"usertag\",split_char=\",\"):\n",
    "    # Creates a dictionary with key: tag and value: list of rows\n",
    "    tag_series=training_df[column].apply(lambda x:x.split(split_char))\n",
    "    k=0\n",
    "    tag_index={}\n",
    "    for tags_line,index_tag in zip(tag_series,tag_series.index):\n",
    "        k+=1\n",
    "        for tag in tags_line:\n",
    "            if tag != \"null\":\n",
    "                if tag not in tag_index.keys():\n",
    "                    tag_index[tag]=[index_tag]\n",
    "                else:\n",
    "                    tag_index[tag].append(index_tag)\n",
    "        if k%1000000==0:\n",
    "            print \"%d completed\"%(k)\n",
    "    return tag_index\n",
    "\n",
    "def get_tagsDF(dictio_tag_index,training_set):\n",
    "    # Create the dictionary with key:usertag, value: list with 1 tha impression correspond to this tag \n",
    "    N=training_set.shape[0]\n",
    "    dictio_tags_values={}\n",
    "    for user_tag in dictio_tag_index.keys():\n",
    "        sparce_array=[0]*N\n",
    "        for i in dictio_tag_index[user_tag]:\n",
    "            sparce_array[i]=1\n",
    "        dictio_tags_values[user_tag]=sparce_array\n",
    "    print \"%d users completed, creating dataframe\"%(len(dictio_tags_values.keys()))\n",
    "    return pd.DataFrame(dictio_tags_values)\n",
    "\n",
    "def normalize(dataframe,column=\"slotprice\"):\n",
    "    dataframe[column]=(dataframe[column]-dataframe[column].mean())/dataframe[column].std()\n",
    "    \n",
    "\n"
   ]
  },
  {
   "cell_type": "code",
   "execution_count": 166,
   "metadata": {
    "collapsed": true
   },
   "outputs": [],
   "source": [
    "# Constants:\n",
    "# According to the iPINyou paper:\n",
    "columns_to_dummy=[\"weekday\",\"hour\",\"region\",\"city\",\"adexchange\",\"slotwidth\",\"slotheight\",\"slotvisibility\",\n",
    "                  \"slotformat\"]\n",
    "# For train and validation:\n",
    "columns_to_drop=[\"bidid\",\"logtype\",\"userid\",\"urlid\",\"url\",\"bidprice\",\"payprice\",\"keypage\",\"creative\",\"slotid\"]\n",
    "# For test:\n",
    "#columns_to_drop=[\"bidid\",\"logtype\",\"userid\",\"urlid\",\"url\",\"keypage\",\"creative\",\"domain\",\"IP\",\"slotid\"]"
   ]
  },
  {
   "cell_type": "markdown",
   "metadata": {},
   "source": [
    "### Importing datasets:"
   ]
  },
  {
   "cell_type": "code",
   "execution_count": 5,
   "metadata": {
    "collapsed": false
   },
   "outputs": [
    {
     "name": "stdout",
     "output_type": "stream",
     "text": [
      "data imported, num rows: 2697738, num cols: 26\n"
     ]
    }
   ],
   "source": [
    "# Training set:\n",
    "start_time=time.time()\n",
    "filepath=\"../dataset/train.csv\"  ### -----> put the path where is your file\n",
    "filepath_val=\"../dataset/validation.csv\"\n",
    "#filepath=\"../dataset/test.csv\"\n",
    "data=pd.read_csv(filepath)\n",
    "print \"data imported, num rows: %d, num cols: %d\"%(data.shape[0],data.shape[1])\n"
   ]
  },
  {
   "cell_type": "code",
   "execution_count": null,
   "metadata": {
    "collapsed": true
   },
   "outputs": [],
   "source": [
    "# Validation set:\n",
    "filepath_val=\"../dataset/validation.csv\"\n",
    "data_val=pd.read_csv(filepath_val)"
   ]
  },
  {
   "cell_type": "code",
   "execution_count": 94,
   "metadata": {
    "collapsed": true
   },
   "outputs": [],
   "source": [
    "# Validation set:\n",
    "filepath_test=\"../dataset/test.csv\"\n",
    "data_test=pd.read_csv(filepath_test)"
   ]
  },
  {
   "cell_type": "code",
   "execution_count": 167,
   "metadata": {
    "collapsed": true
   },
   "outputs": [],
   "source": [
    "# Sampling:\n",
    "data_0=data[data.click==0]\n",
    "data_1=data[data.click==1]"
   ]
  },
  {
   "cell_type": "code",
   "execution_count": 168,
   "metadata": {
    "collapsed": false
   },
   "outputs": [],
   "source": [
    "# Sampling:\n",
    "N=data_0.shape[0]\n",
    "dim=data_0.shape[1]\n",
    "n_samples= int(N*0.001)\n",
    "#data_0=data_0.loc[np.sample(data_0.index, n_samples)]\n",
    "data_0=data_0.loc[np.random.choice(data_0.index,n_samples , replace=False)]\n"
   ]
  },
  {
   "cell_type": "code",
   "execution_count": 169,
   "metadata": {
    "collapsed": false
   },
   "outputs": [],
   "source": [
    "# Get browser, OS:\n",
    "data_0['browser'], data_0['os'] = data_0['useragent'].str.split('_', 1).str\n",
    "data_0.drop([\"useragent\"],axis=1,inplace=True)"
   ]
  },
  {
   "cell_type": "code",
   "execution_count": 170,
   "metadata": {
    "collapsed": false
   },
   "outputs": [],
   "source": [
    "# expand df.tags into its own dataframe\n",
    "tags = data_0['usertag'].apply(pd.Series)\n",
    "\n",
    "# rename each variable is tags\n",
    "#tags = tags.rename(columns = lambda x : 'tag_' + str(x))"
   ]
  },
  {
   "cell_type": "code",
   "execution_count": 171,
   "metadata": {
    "collapsed": false
   },
   "outputs": [],
   "source": [
    "data_0.drop(columns_to_drop, axis=1, inplace=True)\n"
   ]
  },
  {
   "cell_type": "code",
   "execution_count": 187,
   "metadata": {
    "collapsed": false
   },
   "outputs": [],
   "source": [
    "data_0[\"lala\"]=data.click"
   ]
  },
  {
   "cell_type": "code",
   "execution_count": 464,
   "metadata": {
    "collapsed": false
   },
   "outputs": [],
   "source": [
    "from collections import defaultdict\n",
    "import csv\n",
    "def get_std_slotprice(path,column=\"slotprice\"):\n",
    "    df = pd.read_csv(path, skipinitialspace=True, usecols=[column])\n",
    "    std_value=int(df.slotprice.values.std())\n",
    "    del(df)\n",
    "    return std_value\n",
    "\n",
    "def update_usertag_os_browser(instance,row,col_usertag=25,col_os_brow=6):\n",
    "    usertags = row[col_usertag].split(',')\n",
    "    temp_dict = {}\n",
    "    for tag in usertags:\n",
    "        temp_dict[\"tag \" + tag] = True\n",
    "    instance.update(temp_dict)\n",
    "    # add OS and browser:\n",
    "    op_sys, browser = row[col_os_brow].split('_')\n",
    "    instance.update({op_sys: True, browser: True})\n",
    "    return instance\n",
    "\n",
    "def process_event(row,STD_SLOTPRICE,data_type=\"Training\"):\n",
    "    # Initilize instance:\n",
    "    if data_type==\"Training\":\n",
    "        instance = {'weekday': row[1], 'hour': row[2], 'region': row[8], \\\n",
    "                    'city': row[9], 'adexchange': row[10], 'slotwidth': row[15], 'slotheight': row[16], \\\n",
    "                    'slotvisibility': row[17], 'slotformat': row[18], 'slotprice': float(row[19]) / STD_SLOTPRICE, \\\n",
    "                    'advertiser': row[24]}\n",
    "    elif data_type==\"Validation\":\n",
    "        instance = {'weekday': row[1], 'hour': row[2], 'region': row[8], \\\n",
    "                    'city': row[9], 'adexchange': row[10], 'slotwidth': row[15], 'slotheight': row[16], \\\n",
    "                    'slotvisibility': row[17],'payprice':int(row[22]), 'slotformat': row[18], 'slotprice': float(row[19]) / STD_SLOTPRICE, \\\n",
    "                    'advertiser': row[24]}\n",
    "    else: \n",
    "        print \"must be training of validation\"\n",
    "        return \n",
    "    # Add usertags:\n",
    "    usertags = row[25].split(',')\n",
    "    temp_dict = {}\n",
    "    for tag in usertags:\n",
    "        temp_dict[\"tag \" + tag] = True\n",
    "    instance.update(temp_dict)\n",
    "    # add OS and browser:\n",
    "    op_sys, browser = row[6].split('_')\n",
    "    instance.update({op_sys: True, browser: True})\n",
    "    return instance"
   ]
  },
  {
   "cell_type": "code",
   "execution_count": 465,
   "metadata": {
    "collapsed": false
   },
   "outputs": [],
   "source": [
    "def load_data(filepath,data_type=\"Training\"):\n",
    "    data = list()\n",
    "    labels = list()\n",
    "    # std of slotprice for nomalization\n",
    "    STD_SLOTPRICE = get_std_slotprice(filepath,column=\"slotprice\")\n",
    "    print \"std stored\"\n",
    "    with open(filepath, 'r') as csvfile:\n",
    "        reader = csv.reader(csvfile, delimiter=',', quotechar='\"')\n",
    "        # pass header:\n",
    "        next(reader)\n",
    "        # Iterate:\n",
    "        for row in reader:\n",
    "            instance=process_event(row,STD_SLOTPRICE,data_type)\n",
    "            data.append(instance)\n",
    "            labels.append(int(row[0]))\n",
    "    print \"data and labels loaded\"\n",
    "    return data,labels"
   ]
  },
  {
   "cell_type": "code",
   "execution_count": 475,
   "metadata": {
    "collapsed": true
   },
   "outputs": [],
   "source": [
    "from sklearn.linear_model import LogisticRegression\n",
    "from sklearn.metrics import roc_auc_score"
   ]
  },
  {
   "cell_type": "code",
   "execution_count": 509,
   "metadata": {
    "collapsed": false
   },
   "outputs": [
    {
     "name": "stdout",
     "output_type": "stream",
     "text": [
      "std stored\n",
      "data and labels loaded\n"
     ]
    }
   ],
   "source": [
    "# Loading training data:\n",
    "new_data=load_data(filepath)\n",
    "training_events, labels = new_data[0],new_data[1]\n",
    "del(new_data)\n",
    "# taking first 50'000:\n",
    "training_events=training_events[0:100000]\n",
    "training_labels=labels[0:100000]"
   ]
  },
  {
   "cell_type": "code",
   "execution_count": 510,
   "metadata": {
    "collapsed": true
   },
   "outputs": [],
   "source": [
    "# Features: Training\n",
    "X_train=pd.DataFrame.from_dict(training_events)\n",
    "X_train=pd.get_dummies(X_train)"
   ]
  },
  {
   "cell_type": "code",
   "execution_count": 511,
   "metadata": {
    "collapsed": true
   },
   "outputs": [],
   "source": [
    "# Labels: Training:\n",
    "Y_train=pd.DataFrame(training_labels,columns=[\"click\"])"
   ]
  },
  {
   "cell_type": "code",
   "execution_count": 512,
   "metadata": {
    "collapsed": false
   },
   "outputs": [
    {
     "name": "stdout",
     "output_type": "stream",
     "text": [
      "std stored\n",
      "data and labels loaded\n"
     ]
    }
   ],
   "source": [
    "# Validation:\n",
    "val_events,val_labels= load_data(filepath_val)\n",
    "X_val=pd.DataFrame(val_events)\n",
    "X_val=pd.get_dummies(X_val)"
   ]
  },
  {
   "cell_type": "code",
   "execution_count": 513,
   "metadata": {
    "collapsed": false
   },
   "outputs": [],
   "source": [
    "# Labels Validation\n",
    "Y_val=pd.DataFrame(val_labels,columns=[\"click\"])"
   ]
  },
  {
   "cell_type": "code",
   "execution_count": 522,
   "metadata": {
    "collapsed": false
   },
   "outputs": [
    {
     "data": {
      "text/plain": [
       "LogisticRegression(C=1.0, class_weight='balanced', dual=False,\n",
       "          fit_intercept=True, intercept_scaling=1, max_iter=100,\n",
       "          multi_class='ovr', n_jobs=1, penalty='l2', random_state=None,\n",
       "          solver='liblinear', tol=0.0001, verbose=0, warm_start=False)"
      ]
     },
     "execution_count": 522,
     "metadata": {},
     "output_type": "execute_result"
    }
   ],
   "source": [
    "model= LogisticRegression(class_weight=\"balanced\")\n",
    "model.fit(np.array(X_train),np.array(Y_train))"
   ]
  },
  {
   "cell_type": "code",
   "execution_count": 523,
   "metadata": {
    "collapsed": false
   },
   "outputs": [
    {
     "data": {
      "text/plain": [
       "0.50948922211808811"
      ]
     },
     "execution_count": 523,
     "metadata": {},
     "output_type": "execute_result"
    }
   ],
   "source": [
    "# Error on the training set:\n",
    "y_pred_train=model.predict(X_train)\n",
    "y_true=Y_train.values.reshape(1,len(Y_train))[0]\n",
    "roc_auc_score(y_pred_train,y_true)"
   ]
  },
  {
   "cell_type": "code",
   "execution_count": 524,
   "metadata": {
    "collapsed": false
   },
   "outputs": [
    {
     "data": {
      "text/plain": [
       "4268"
      ]
     },
     "execution_count": 524,
     "metadata": {},
     "output_type": "execute_result"
    }
   ],
   "source": [
    "sum(y_pred_train)"
   ]
  },
  {
   "cell_type": "code",
   "execution_count": 525,
   "metadata": {
    "collapsed": false
   },
   "outputs": [
    {
     "data": {
      "text/plain": [
       "81"
      ]
     },
     "execution_count": 525,
     "metadata": {},
     "output_type": "execute_result"
    }
   ],
   "source": [
    "sum(y_true)"
   ]
  },
  {
   "cell_type": "code",
   "execution_count": null,
   "metadata": {
    "collapsed": true
   },
   "outputs": [],
   "source": []
  },
  {
   "cell_type": "code",
   "execution_count": null,
   "metadata": {
    "collapsed": true
   },
   "outputs": [],
   "source": []
  },
  {
   "cell_type": "code",
   "execution_count": null,
   "metadata": {
    "collapsed": true
   },
   "outputs": [],
   "source": []
  },
  {
   "cell_type": "code",
   "execution_count": 173,
   "metadata": {
    "collapsed": true
   },
   "outputs": [],
   "source": [
    "training_set=pd.get_dummies(data_0,columns=columns_to_dummy)"
   ]
  },
  {
   "cell_type": "code",
   "execution_count": 174,
   "metadata": {
    "collapsed": false
   },
   "outputs": [
    {
     "data": {
      "text/html": [
       "<div>\n",
       "<table border=\"1\" class=\"dataframe\">\n",
       "  <thead>\n",
       "    <tr style=\"text-align: right;\">\n",
       "      <th></th>\n",
       "      <th>click</th>\n",
       "      <th>IP</th>\n",
       "      <th>domain</th>\n",
       "      <th>slotprice</th>\n",
       "      <th>advertiser</th>\n",
       "      <th>usertag</th>\n",
       "      <th>browser</th>\n",
       "      <th>os</th>\n",
       "      <th>weekday_0</th>\n",
       "      <th>weekday_1</th>\n",
       "      <th>weekday_2</th>\n",
       "      <th>weekday_3</th>\n",
       "      <th>weekday_4</th>\n",
       "      <th>weekday_5</th>\n",
       "      <th>weekday_6</th>\n",
       "      <th>hour_0</th>\n",
       "      <th>hour_1</th>\n",
       "      <th>hour_2</th>\n",
       "      <th>hour_3</th>\n",
       "      <th>hour_4</th>\n",
       "      <th>hour_5</th>\n",
       "      <th>hour_6</th>\n",
       "      <th>hour_7</th>\n",
       "      <th>hour_8</th>\n",
       "      <th>hour_9</th>\n",
       "      <th>hour_10</th>\n",
       "      <th>hour_11</th>\n",
       "      <th>hour_12</th>\n",
       "      <th>hour_13</th>\n",
       "      <th>hour_14</th>\n",
       "      <th>hour_15</th>\n",
       "      <th>hour_16</th>\n",
       "      <th>hour_17</th>\n",
       "      <th>hour_18</th>\n",
       "      <th>hour_19</th>\n",
       "      <th>hour_20</th>\n",
       "      <th>hour_21</th>\n",
       "      <th>hour_22</th>\n",
       "      <th>hour_23</th>\n",
       "      <th>region_0</th>\n",
       "      <th>region_1</th>\n",
       "      <th>region_2</th>\n",
       "      <th>region_3</th>\n",
       "      <th>region_15</th>\n",
       "      <th>region_27</th>\n",
       "      <th>region_40</th>\n",
       "      <th>region_55</th>\n",
       "      <th>region_65</th>\n",
       "      <th>region_79</th>\n",
       "      <th>region_80</th>\n",
       "      <th>...</th>\n",
       "      <th>city_397</th>\n",
       "      <th>city_398</th>\n",
       "      <th>city_399</th>\n",
       "      <th>adexchange_1</th>\n",
       "      <th>adexchange_2</th>\n",
       "      <th>adexchange_3</th>\n",
       "      <th>adexchange_4</th>\n",
       "      <th>adexchange_null</th>\n",
       "      <th>slotwidth_120</th>\n",
       "      <th>slotwidth_160</th>\n",
       "      <th>slotwidth_180</th>\n",
       "      <th>slotwidth_200</th>\n",
       "      <th>slotwidth_250</th>\n",
       "      <th>slotwidth_300</th>\n",
       "      <th>slotwidth_320</th>\n",
       "      <th>slotwidth_336</th>\n",
       "      <th>slotwidth_360</th>\n",
       "      <th>slotwidth_468</th>\n",
       "      <th>slotwidth_620</th>\n",
       "      <th>slotwidth_640</th>\n",
       "      <th>slotwidth_728</th>\n",
       "      <th>slotwidth_910</th>\n",
       "      <th>slotwidth_950</th>\n",
       "      <th>slotwidth_960</th>\n",
       "      <th>slotwidth_980</th>\n",
       "      <th>slotwidth_1000</th>\n",
       "      <th>slotheight_50</th>\n",
       "      <th>slotheight_60</th>\n",
       "      <th>slotheight_90</th>\n",
       "      <th>slotheight_100</th>\n",
       "      <th>slotheight_200</th>\n",
       "      <th>slotheight_240</th>\n",
       "      <th>slotheight_250</th>\n",
       "      <th>slotheight_280</th>\n",
       "      <th>slotheight_300</th>\n",
       "      <th>slotheight_600</th>\n",
       "      <th>slotvisibility_0</th>\n",
       "      <th>slotvisibility_1</th>\n",
       "      <th>slotvisibility_2</th>\n",
       "      <th>slotvisibility_255</th>\n",
       "      <th>slotvisibility_FirstView</th>\n",
       "      <th>slotvisibility_FourthView</th>\n",
       "      <th>slotvisibility_Na</th>\n",
       "      <th>slotvisibility_OtherView</th>\n",
       "      <th>slotvisibility_SecondView</th>\n",
       "      <th>slotvisibility_ThirdView</th>\n",
       "      <th>slotformat_0</th>\n",
       "      <th>slotformat_1</th>\n",
       "      <th>slotformat_5</th>\n",
       "      <th>slotformat_Na</th>\n",
       "    </tr>\n",
       "  </thead>\n",
       "  <tbody>\n",
       "    <tr>\n",
       "      <th>1916959</th>\n",
       "      <td>0</td>\n",
       "      <td>175.31.48.*</td>\n",
       "      <td>31xSTvprdN1RFt</td>\n",
       "      <td>50</td>\n",
       "      <td>1458</td>\n",
       "      <td>13403,10006,10059,10063,10111</td>\n",
       "      <td>windows</td>\n",
       "      <td>chrome</td>\n",
       "      <td>0</td>\n",
       "      <td>0</td>\n",
       "      <td>0</td>\n",
       "      <td>0</td>\n",
       "      <td>0</td>\n",
       "      <td>1</td>\n",
       "      <td>0</td>\n",
       "      <td>0</td>\n",
       "      <td>0</td>\n",
       "      <td>0</td>\n",
       "      <td>0</td>\n",
       "      <td>0</td>\n",
       "      <td>0</td>\n",
       "      <td>0</td>\n",
       "      <td>1</td>\n",
       "      <td>0</td>\n",
       "      <td>0</td>\n",
       "      <td>0</td>\n",
       "      <td>0</td>\n",
       "      <td>0</td>\n",
       "      <td>0</td>\n",
       "      <td>0</td>\n",
       "      <td>0</td>\n",
       "      <td>0</td>\n",
       "      <td>0</td>\n",
       "      <td>0</td>\n",
       "      <td>0</td>\n",
       "      <td>0</td>\n",
       "      <td>0</td>\n",
       "      <td>0</td>\n",
       "      <td>0</td>\n",
       "      <td>0</td>\n",
       "      <td>0</td>\n",
       "      <td>0</td>\n",
       "      <td>0</td>\n",
       "      <td>0</td>\n",
       "      <td>0</td>\n",
       "      <td>0</td>\n",
       "      <td>1</td>\n",
       "      <td>0</td>\n",
       "      <td>0</td>\n",
       "      <td>0</td>\n",
       "      <td>...</td>\n",
       "      <td>0</td>\n",
       "      <td>0</td>\n",
       "      <td>0</td>\n",
       "      <td>0</td>\n",
       "      <td>0</td>\n",
       "      <td>1</td>\n",
       "      <td>0</td>\n",
       "      <td>0</td>\n",
       "      <td>0</td>\n",
       "      <td>0</td>\n",
       "      <td>0</td>\n",
       "      <td>0</td>\n",
       "      <td>0</td>\n",
       "      <td>0</td>\n",
       "      <td>0</td>\n",
       "      <td>0</td>\n",
       "      <td>0</td>\n",
       "      <td>0</td>\n",
       "      <td>0</td>\n",
       "      <td>0</td>\n",
       "      <td>0</td>\n",
       "      <td>0</td>\n",
       "      <td>0</td>\n",
       "      <td>0</td>\n",
       "      <td>0</td>\n",
       "      <td>1</td>\n",
       "      <td>0</td>\n",
       "      <td>0</td>\n",
       "      <td>1</td>\n",
       "      <td>0</td>\n",
       "      <td>0</td>\n",
       "      <td>0</td>\n",
       "      <td>0</td>\n",
       "      <td>0</td>\n",
       "      <td>0</td>\n",
       "      <td>0</td>\n",
       "      <td>1</td>\n",
       "      <td>0</td>\n",
       "      <td>0</td>\n",
       "      <td>0</td>\n",
       "      <td>0</td>\n",
       "      <td>0</td>\n",
       "      <td>0</td>\n",
       "      <td>0</td>\n",
       "      <td>0</td>\n",
       "      <td>0</td>\n",
       "      <td>1</td>\n",
       "      <td>0</td>\n",
       "      <td>0</td>\n",
       "      <td>0</td>\n",
       "    </tr>\n",
       "    <tr>\n",
       "      <th>2179643</th>\n",
       "      <td>0</td>\n",
       "      <td>219.137.249.*</td>\n",
       "      <td>null</td>\n",
       "      <td>250</td>\n",
       "      <td>3386</td>\n",
       "      <td>null</td>\n",
       "      <td>windows</td>\n",
       "      <td>chrome</td>\n",
       "      <td>0</td>\n",
       "      <td>0</td>\n",
       "      <td>0</td>\n",
       "      <td>0</td>\n",
       "      <td>0</td>\n",
       "      <td>1</td>\n",
       "      <td>0</td>\n",
       "      <td>0</td>\n",
       "      <td>0</td>\n",
       "      <td>0</td>\n",
       "      <td>0</td>\n",
       "      <td>0</td>\n",
       "      <td>0</td>\n",
       "      <td>0</td>\n",
       "      <td>0</td>\n",
       "      <td>0</td>\n",
       "      <td>0</td>\n",
       "      <td>0</td>\n",
       "      <td>0</td>\n",
       "      <td>0</td>\n",
       "      <td>0</td>\n",
       "      <td>1</td>\n",
       "      <td>0</td>\n",
       "      <td>0</td>\n",
       "      <td>0</td>\n",
       "      <td>0</td>\n",
       "      <td>0</td>\n",
       "      <td>0</td>\n",
       "      <td>0</td>\n",
       "      <td>0</td>\n",
       "      <td>0</td>\n",
       "      <td>0</td>\n",
       "      <td>0</td>\n",
       "      <td>0</td>\n",
       "      <td>0</td>\n",
       "      <td>0</td>\n",
       "      <td>0</td>\n",
       "      <td>0</td>\n",
       "      <td>0</td>\n",
       "      <td>0</td>\n",
       "      <td>0</td>\n",
       "      <td>0</td>\n",
       "      <td>...</td>\n",
       "      <td>0</td>\n",
       "      <td>0</td>\n",
       "      <td>0</td>\n",
       "      <td>0</td>\n",
       "      <td>1</td>\n",
       "      <td>0</td>\n",
       "      <td>0</td>\n",
       "      <td>0</td>\n",
       "      <td>1</td>\n",
       "      <td>0</td>\n",
       "      <td>0</td>\n",
       "      <td>0</td>\n",
       "      <td>0</td>\n",
       "      <td>0</td>\n",
       "      <td>0</td>\n",
       "      <td>0</td>\n",
       "      <td>0</td>\n",
       "      <td>0</td>\n",
       "      <td>0</td>\n",
       "      <td>0</td>\n",
       "      <td>0</td>\n",
       "      <td>0</td>\n",
       "      <td>0</td>\n",
       "      <td>0</td>\n",
       "      <td>0</td>\n",
       "      <td>0</td>\n",
       "      <td>0</td>\n",
       "      <td>0</td>\n",
       "      <td>0</td>\n",
       "      <td>0</td>\n",
       "      <td>0</td>\n",
       "      <td>0</td>\n",
       "      <td>0</td>\n",
       "      <td>0</td>\n",
       "      <td>0</td>\n",
       "      <td>1</td>\n",
       "      <td>1</td>\n",
       "      <td>0</td>\n",
       "      <td>0</td>\n",
       "      <td>0</td>\n",
       "      <td>0</td>\n",
       "      <td>0</td>\n",
       "      <td>0</td>\n",
       "      <td>0</td>\n",
       "      <td>0</td>\n",
       "      <td>0</td>\n",
       "      <td>1</td>\n",
       "      <td>0</td>\n",
       "      <td>0</td>\n",
       "      <td>0</td>\n",
       "    </tr>\n",
       "    <tr>\n",
       "      <th>544446</th>\n",
       "      <td>0</td>\n",
       "      <td>124.116.0.*</td>\n",
       "      <td>5F1RQS9rg5scFsf</td>\n",
       "      <td>50</td>\n",
       "      <td>1458</td>\n",
       "      <td>10063,10031,10110</td>\n",
       "      <td>windows</td>\n",
       "      <td>chrome</td>\n",
       "      <td>0</td>\n",
       "      <td>0</td>\n",
       "      <td>0</td>\n",
       "      <td>0</td>\n",
       "      <td>0</td>\n",
       "      <td>0</td>\n",
       "      <td>1</td>\n",
       "      <td>0</td>\n",
       "      <td>0</td>\n",
       "      <td>0</td>\n",
       "      <td>0</td>\n",
       "      <td>0</td>\n",
       "      <td>0</td>\n",
       "      <td>0</td>\n",
       "      <td>0</td>\n",
       "      <td>0</td>\n",
       "      <td>0</td>\n",
       "      <td>0</td>\n",
       "      <td>0</td>\n",
       "      <td>0</td>\n",
       "      <td>0</td>\n",
       "      <td>0</td>\n",
       "      <td>1</td>\n",
       "      <td>0</td>\n",
       "      <td>0</td>\n",
       "      <td>0</td>\n",
       "      <td>0</td>\n",
       "      <td>0</td>\n",
       "      <td>0</td>\n",
       "      <td>0</td>\n",
       "      <td>0</td>\n",
       "      <td>0</td>\n",
       "      <td>0</td>\n",
       "      <td>0</td>\n",
       "      <td>0</td>\n",
       "      <td>0</td>\n",
       "      <td>0</td>\n",
       "      <td>0</td>\n",
       "      <td>0</td>\n",
       "      <td>0</td>\n",
       "      <td>0</td>\n",
       "      <td>0</td>\n",
       "      <td>...</td>\n",
       "      <td>0</td>\n",
       "      <td>0</td>\n",
       "      <td>0</td>\n",
       "      <td>0</td>\n",
       "      <td>0</td>\n",
       "      <td>1</td>\n",
       "      <td>0</td>\n",
       "      <td>0</td>\n",
       "      <td>0</td>\n",
       "      <td>0</td>\n",
       "      <td>0</td>\n",
       "      <td>0</td>\n",
       "      <td>0</td>\n",
       "      <td>0</td>\n",
       "      <td>0</td>\n",
       "      <td>0</td>\n",
       "      <td>0</td>\n",
       "      <td>0</td>\n",
       "      <td>0</td>\n",
       "      <td>0</td>\n",
       "      <td>0</td>\n",
       "      <td>0</td>\n",
       "      <td>0</td>\n",
       "      <td>1</td>\n",
       "      <td>0</td>\n",
       "      <td>0</td>\n",
       "      <td>0</td>\n",
       "      <td>0</td>\n",
       "      <td>1</td>\n",
       "      <td>0</td>\n",
       "      <td>0</td>\n",
       "      <td>0</td>\n",
       "      <td>0</td>\n",
       "      <td>0</td>\n",
       "      <td>0</td>\n",
       "      <td>0</td>\n",
       "      <td>1</td>\n",
       "      <td>0</td>\n",
       "      <td>0</td>\n",
       "      <td>0</td>\n",
       "      <td>0</td>\n",
       "      <td>0</td>\n",
       "      <td>0</td>\n",
       "      <td>0</td>\n",
       "      <td>0</td>\n",
       "      <td>0</td>\n",
       "      <td>1</td>\n",
       "      <td>0</td>\n",
       "      <td>0</td>\n",
       "      <td>0</td>\n",
       "    </tr>\n",
       "    <tr>\n",
       "      <th>2349652</th>\n",
       "      <td>0</td>\n",
       "      <td>117.63.142.*</td>\n",
       "      <td>DSmreF9aBTN7gqKbuKz</td>\n",
       "      <td>4</td>\n",
       "      <td>3476</td>\n",
       "      <td>10063,10006,10110</td>\n",
       "      <td>windows</td>\n",
       "      <td>ie</td>\n",
       "      <td>1</td>\n",
       "      <td>0</td>\n",
       "      <td>0</td>\n",
       "      <td>0</td>\n",
       "      <td>0</td>\n",
       "      <td>0</td>\n",
       "      <td>0</td>\n",
       "      <td>0</td>\n",
       "      <td>0</td>\n",
       "      <td>0</td>\n",
       "      <td>0</td>\n",
       "      <td>0</td>\n",
       "      <td>0</td>\n",
       "      <td>0</td>\n",
       "      <td>0</td>\n",
       "      <td>0</td>\n",
       "      <td>0</td>\n",
       "      <td>0</td>\n",
       "      <td>0</td>\n",
       "      <td>0</td>\n",
       "      <td>0</td>\n",
       "      <td>1</td>\n",
       "      <td>0</td>\n",
       "      <td>0</td>\n",
       "      <td>0</td>\n",
       "      <td>0</td>\n",
       "      <td>0</td>\n",
       "      <td>0</td>\n",
       "      <td>0</td>\n",
       "      <td>0</td>\n",
       "      <td>0</td>\n",
       "      <td>0</td>\n",
       "      <td>0</td>\n",
       "      <td>0</td>\n",
       "      <td>0</td>\n",
       "      <td>0</td>\n",
       "      <td>0</td>\n",
       "      <td>0</td>\n",
       "      <td>0</td>\n",
       "      <td>0</td>\n",
       "      <td>0</td>\n",
       "      <td>1</td>\n",
       "      <td>...</td>\n",
       "      <td>0</td>\n",
       "      <td>0</td>\n",
       "      <td>0</td>\n",
       "      <td>0</td>\n",
       "      <td>1</td>\n",
       "      <td>0</td>\n",
       "      <td>0</td>\n",
       "      <td>0</td>\n",
       "      <td>0</td>\n",
       "      <td>0</td>\n",
       "      <td>0</td>\n",
       "      <td>0</td>\n",
       "      <td>0</td>\n",
       "      <td>0</td>\n",
       "      <td>0</td>\n",
       "      <td>0</td>\n",
       "      <td>0</td>\n",
       "      <td>0</td>\n",
       "      <td>0</td>\n",
       "      <td>0</td>\n",
       "      <td>1</td>\n",
       "      <td>0</td>\n",
       "      <td>0</td>\n",
       "      <td>0</td>\n",
       "      <td>0</td>\n",
       "      <td>0</td>\n",
       "      <td>0</td>\n",
       "      <td>0</td>\n",
       "      <td>1</td>\n",
       "      <td>0</td>\n",
       "      <td>0</td>\n",
       "      <td>0</td>\n",
       "      <td>0</td>\n",
       "      <td>0</td>\n",
       "      <td>0</td>\n",
       "      <td>0</td>\n",
       "      <td>0</td>\n",
       "      <td>0</td>\n",
       "      <td>1</td>\n",
       "      <td>0</td>\n",
       "      <td>0</td>\n",
       "      <td>0</td>\n",
       "      <td>0</td>\n",
       "      <td>0</td>\n",
       "      <td>0</td>\n",
       "      <td>0</td>\n",
       "      <td>1</td>\n",
       "      <td>0</td>\n",
       "      <td>0</td>\n",
       "      <td>0</td>\n",
       "    </tr>\n",
       "    <tr>\n",
       "      <th>1672540</th>\n",
       "      <td>0</td>\n",
       "      <td>113.6.146.*</td>\n",
       "      <td>3FKElpuEMusyJqKbuKz</td>\n",
       "      <td>50</td>\n",
       "      <td>1458</td>\n",
       "      <td>null</td>\n",
       "      <td>windows</td>\n",
       "      <td>ie</td>\n",
       "      <td>1</td>\n",
       "      <td>0</td>\n",
       "      <td>0</td>\n",
       "      <td>0</td>\n",
       "      <td>0</td>\n",
       "      <td>0</td>\n",
       "      <td>0</td>\n",
       "      <td>0</td>\n",
       "      <td>0</td>\n",
       "      <td>0</td>\n",
       "      <td>0</td>\n",
       "      <td>0</td>\n",
       "      <td>0</td>\n",
       "      <td>0</td>\n",
       "      <td>0</td>\n",
       "      <td>0</td>\n",
       "      <td>0</td>\n",
       "      <td>0</td>\n",
       "      <td>0</td>\n",
       "      <td>0</td>\n",
       "      <td>0</td>\n",
       "      <td>0</td>\n",
       "      <td>0</td>\n",
       "      <td>0</td>\n",
       "      <td>0</td>\n",
       "      <td>0</td>\n",
       "      <td>0</td>\n",
       "      <td>0</td>\n",
       "      <td>0</td>\n",
       "      <td>1</td>\n",
       "      <td>0</td>\n",
       "      <td>0</td>\n",
       "      <td>0</td>\n",
       "      <td>0</td>\n",
       "      <td>0</td>\n",
       "      <td>0</td>\n",
       "      <td>0</td>\n",
       "      <td>0</td>\n",
       "      <td>0</td>\n",
       "      <td>1</td>\n",
       "      <td>0</td>\n",
       "      <td>0</td>\n",
       "      <td>...</td>\n",
       "      <td>0</td>\n",
       "      <td>0</td>\n",
       "      <td>0</td>\n",
       "      <td>0</td>\n",
       "      <td>0</td>\n",
       "      <td>1</td>\n",
       "      <td>0</td>\n",
       "      <td>0</td>\n",
       "      <td>0</td>\n",
       "      <td>0</td>\n",
       "      <td>0</td>\n",
       "      <td>0</td>\n",
       "      <td>0</td>\n",
       "      <td>1</td>\n",
       "      <td>0</td>\n",
       "      <td>0</td>\n",
       "      <td>0</td>\n",
       "      <td>0</td>\n",
       "      <td>0</td>\n",
       "      <td>0</td>\n",
       "      <td>0</td>\n",
       "      <td>0</td>\n",
       "      <td>0</td>\n",
       "      <td>0</td>\n",
       "      <td>0</td>\n",
       "      <td>0</td>\n",
       "      <td>0</td>\n",
       "      <td>0</td>\n",
       "      <td>0</td>\n",
       "      <td>0</td>\n",
       "      <td>0</td>\n",
       "      <td>0</td>\n",
       "      <td>1</td>\n",
       "      <td>0</td>\n",
       "      <td>0</td>\n",
       "      <td>0</td>\n",
       "      <td>1</td>\n",
       "      <td>0</td>\n",
       "      <td>0</td>\n",
       "      <td>0</td>\n",
       "      <td>0</td>\n",
       "      <td>0</td>\n",
       "      <td>0</td>\n",
       "      <td>0</td>\n",
       "      <td>0</td>\n",
       "      <td>0</td>\n",
       "      <td>1</td>\n",
       "      <td>0</td>\n",
       "      <td>0</td>\n",
       "      <td>0</td>\n",
       "    </tr>\n",
       "  </tbody>\n",
       "</table>\n",
       "<p>5 rows × 438 columns</p>\n",
       "</div>"
      ],
      "text/plain": [
       "         click             IP               domain  slotprice  advertiser  \\\n",
       "1916959      0    175.31.48.*       31xSTvprdN1RFt         50        1458   \n",
       "2179643      0  219.137.249.*                 null        250        3386   \n",
       "544446       0    124.116.0.*      5F1RQS9rg5scFsf         50        1458   \n",
       "2349652      0   117.63.142.*  DSmreF9aBTN7gqKbuKz          4        3476   \n",
       "1672540      0    113.6.146.*  3FKElpuEMusyJqKbuKz         50        1458   \n",
       "\n",
       "                               usertag  browser      os  weekday_0  weekday_1  \\\n",
       "1916959  13403,10006,10059,10063,10111  windows  chrome          0          0   \n",
       "2179643                           null  windows  chrome          0          0   \n",
       "544446               10063,10031,10110  windows  chrome          0          0   \n",
       "2349652              10063,10006,10110  windows      ie          1          0   \n",
       "1672540                           null  windows      ie          1          0   \n",
       "\n",
       "         weekday_2  weekday_3  weekday_4  weekday_5  weekday_6  hour_0  \\\n",
       "1916959          0          0          0          1          0       0   \n",
       "2179643          0          0          0          1          0       0   \n",
       "544446           0          0          0          0          1       0   \n",
       "2349652          0          0          0          0          0       0   \n",
       "1672540          0          0          0          0          0       0   \n",
       "\n",
       "         hour_1  hour_2  hour_3  hour_4  hour_5  hour_6  hour_7  hour_8  \\\n",
       "1916959       0       0       0       0       0       0       1       0   \n",
       "2179643       0       0       0       0       0       0       0       0   \n",
       "544446        0       0       0       0       0       0       0       0   \n",
       "2349652       0       0       0       0       0       0       0       0   \n",
       "1672540       0       0       0       0       0       0       0       0   \n",
       "\n",
       "         hour_9  hour_10  hour_11  hour_12  hour_13  hour_14  hour_15  \\\n",
       "1916959       0        0        0        0        0        0        0   \n",
       "2179643       0        0        0        0        0        1        0   \n",
       "544446        0        0        0        0        0        0        1   \n",
       "2349652       0        0        0        0        0        1        0   \n",
       "1672540       0        0        0        0        0        0        0   \n",
       "\n",
       "         hour_16  hour_17  hour_18  hour_19  hour_20  hour_21  hour_22  \\\n",
       "1916959        0        0        0        0        0        0        0   \n",
       "2179643        0        0        0        0        0        0        0   \n",
       "544446         0        0        0        0        0        0        0   \n",
       "2349652        0        0        0        0        0        0        0   \n",
       "1672540        0        0        0        0        0        0        1   \n",
       "\n",
       "         hour_23  region_0  region_1  region_2  region_3  region_15  \\\n",
       "1916959        0         0         0         0         0          0   \n",
       "2179643        0         0         0         0         0          0   \n",
       "544446         0         0         0         0         0          0   \n",
       "2349652        0         0         0         0         0          0   \n",
       "1672540        0         0         0         0         0          0   \n",
       "\n",
       "         region_27  region_40  region_55  region_65  region_79  region_80  \\\n",
       "1916959          0          0          1          0          0          0   \n",
       "2179643          0          0          0          0          0          0   \n",
       "544446           0          0          0          0          0          0   \n",
       "2349652          0          0          0          0          0          1   \n",
       "1672540          0          0          0          1          0          0   \n",
       "\n",
       "             ...        city_397  city_398  city_399  adexchange_1  \\\n",
       "1916959      ...               0         0         0             0   \n",
       "2179643      ...               0         0         0             0   \n",
       "544446       ...               0         0         0             0   \n",
       "2349652      ...               0         0         0             0   \n",
       "1672540      ...               0         0         0             0   \n",
       "\n",
       "         adexchange_2  adexchange_3  adexchange_4  adexchange_null  \\\n",
       "1916959             0             1             0                0   \n",
       "2179643             1             0             0                0   \n",
       "544446              0             1             0                0   \n",
       "2349652             1             0             0                0   \n",
       "1672540             0             1             0                0   \n",
       "\n",
       "         slotwidth_120  slotwidth_160  slotwidth_180  slotwidth_200  \\\n",
       "1916959              0              0              0              0   \n",
       "2179643              1              0              0              0   \n",
       "544446               0              0              0              0   \n",
       "2349652              0              0              0              0   \n",
       "1672540              0              0              0              0   \n",
       "\n",
       "         slotwidth_250  slotwidth_300  slotwidth_320  slotwidth_336  \\\n",
       "1916959              0              0              0              0   \n",
       "2179643              0              0              0              0   \n",
       "544446               0              0              0              0   \n",
       "2349652              0              0              0              0   \n",
       "1672540              0              1              0              0   \n",
       "\n",
       "         slotwidth_360  slotwidth_468  slotwidth_620  slotwidth_640  \\\n",
       "1916959              0              0              0              0   \n",
       "2179643              0              0              0              0   \n",
       "544446               0              0              0              0   \n",
       "2349652              0              0              0              0   \n",
       "1672540              0              0              0              0   \n",
       "\n",
       "         slotwidth_728  slotwidth_910  slotwidth_950  slotwidth_960  \\\n",
       "1916959              0              0              0              0   \n",
       "2179643              0              0              0              0   \n",
       "544446               0              0              0              1   \n",
       "2349652              1              0              0              0   \n",
       "1672540              0              0              0              0   \n",
       "\n",
       "         slotwidth_980  slotwidth_1000  slotheight_50  slotheight_60  \\\n",
       "1916959              0               1              0              0   \n",
       "2179643              0               0              0              0   \n",
       "544446               0               0              0              0   \n",
       "2349652              0               0              0              0   \n",
       "1672540              0               0              0              0   \n",
       "\n",
       "         slotheight_90  slotheight_100  slotheight_200  slotheight_240  \\\n",
       "1916959              1               0               0               0   \n",
       "2179643              0               0               0               0   \n",
       "544446               1               0               0               0   \n",
       "2349652              1               0               0               0   \n",
       "1672540              0               0               0               0   \n",
       "\n",
       "         slotheight_250  slotheight_280  slotheight_300  slotheight_600  \\\n",
       "1916959               0               0               0               0   \n",
       "2179643               0               0               0               1   \n",
       "544446                0               0               0               0   \n",
       "2349652               0               0               0               0   \n",
       "1672540               1               0               0               0   \n",
       "\n",
       "         slotvisibility_0  slotvisibility_1  slotvisibility_2  \\\n",
       "1916959                 1                 0                 0   \n",
       "2179643                 1                 0                 0   \n",
       "544446                  1                 0                 0   \n",
       "2349652                 0                 0                 1   \n",
       "1672540                 1                 0                 0   \n",
       "\n",
       "         slotvisibility_255  slotvisibility_FirstView  \\\n",
       "1916959                   0                         0   \n",
       "2179643                   0                         0   \n",
       "544446                    0                         0   \n",
       "2349652                   0                         0   \n",
       "1672540                   0                         0   \n",
       "\n",
       "         slotvisibility_FourthView  slotvisibility_Na  \\\n",
       "1916959                          0                  0   \n",
       "2179643                          0                  0   \n",
       "544446                           0                  0   \n",
       "2349652                          0                  0   \n",
       "1672540                          0                  0   \n",
       "\n",
       "         slotvisibility_OtherView  slotvisibility_SecondView  \\\n",
       "1916959                         0                          0   \n",
       "2179643                         0                          0   \n",
       "544446                          0                          0   \n",
       "2349652                         0                          0   \n",
       "1672540                         0                          0   \n",
       "\n",
       "         slotvisibility_ThirdView  slotformat_0  slotformat_1  slotformat_5  \\\n",
       "1916959                         0             1             0             0   \n",
       "2179643                         0             1             0             0   \n",
       "544446                          0             1             0             0   \n",
       "2349652                         0             1             0             0   \n",
       "1672540                         0             1             0             0   \n",
       "\n",
       "         slotformat_Na  \n",
       "1916959              0  \n",
       "2179643              0  \n",
       "544446               0  \n",
       "2349652              0  \n",
       "1672540              0  \n",
       "\n",
       "[5 rows x 438 columns]"
      ]
     },
     "execution_count": 174,
     "metadata": {},
     "output_type": "execute_result"
    }
   ],
   "source": [
    "training_set.head()"
   ]
  },
  {
   "cell_type": "code",
   "execution_count": 175,
   "metadata": {
    "collapsed": false
   },
   "outputs": [
    {
     "ename": "IndexError",
     "evalue": "list assignment index out of range",
     "output_type": "error",
     "traceback": [
      "\u001b[0;31m---------------------------------------------------------------------------\u001b[0m",
      "\u001b[0;31mIndexError\u001b[0m                                Traceback (most recent call last)",
      "\u001b[0;32m<ipython-input-175-68f12d243174>\u001b[0m in \u001b[0;36m<module>\u001b[0;34m()\u001b[0m\n\u001b[1;32m      8\u001b[0m \u001b[0;31m# creating new dataframe:\u001b[0m\u001b[0;34m\u001b[0m\u001b[0;34m\u001b[0m\u001b[0m\n\u001b[1;32m      9\u001b[0m \u001b[0mN\u001b[0m \u001b[0;34m=\u001b[0m \u001b[0mtraining_set\u001b[0m\u001b[0;34m.\u001b[0m\u001b[0mshape\u001b[0m\u001b[0;34m[\u001b[0m\u001b[0;36m0\u001b[0m\u001b[0;34m]\u001b[0m\u001b[0;34m\u001b[0m\u001b[0m\n\u001b[0;32m---> 10\u001b[0;31m \u001b[0mtags_valuesDF\u001b[0m\u001b[0;34m=\u001b[0m\u001b[0mget_tagsDF\u001b[0m\u001b[0;34m(\u001b[0m\u001b[0mdictio_tag_index\u001b[0m\u001b[0;34m,\u001b[0m\u001b[0mtraining_set\u001b[0m\u001b[0;34m)\u001b[0m\u001b[0;34m\u001b[0m\u001b[0m\n\u001b[0m",
      "\u001b[0;32m<ipython-input-3-681401c72d82>\u001b[0m in \u001b[0;36mget_tagsDF\u001b[0;34m(dictio_tag_index, training_set)\u001b[0m\n\u001b[1;32m     38\u001b[0m         \u001b[0msparce_array\u001b[0m\u001b[0;34m=\u001b[0m\u001b[0;34m[\u001b[0m\u001b[0;36m0\u001b[0m\u001b[0;34m]\u001b[0m\u001b[0;34m*\u001b[0m\u001b[0mN\u001b[0m\u001b[0;34m\u001b[0m\u001b[0m\n\u001b[1;32m     39\u001b[0m         \u001b[0;32mfor\u001b[0m \u001b[0mi\u001b[0m \u001b[0;32min\u001b[0m \u001b[0mdictio_tag_index\u001b[0m\u001b[0;34m[\u001b[0m\u001b[0muser_tag\u001b[0m\u001b[0;34m]\u001b[0m\u001b[0;34m:\u001b[0m\u001b[0;34m\u001b[0m\u001b[0m\n\u001b[0;32m---> 40\u001b[0;31m             \u001b[0msparce_array\u001b[0m\u001b[0;34m[\u001b[0m\u001b[0mi\u001b[0m\u001b[0;34m]\u001b[0m\u001b[0;34m=\u001b[0m\u001b[0;36m1\u001b[0m\u001b[0;34m\u001b[0m\u001b[0m\n\u001b[0m\u001b[1;32m     41\u001b[0m         \u001b[0mdictio_tags_values\u001b[0m\u001b[0;34m[\u001b[0m\u001b[0muser_tag\u001b[0m\u001b[0;34m]\u001b[0m\u001b[0;34m=\u001b[0m\u001b[0msparce_array\u001b[0m\u001b[0;34m\u001b[0m\u001b[0m\n\u001b[1;32m     42\u001b[0m     \u001b[0;32mprint\u001b[0m \u001b[0;34m\"%d users completed, creating dataframe\"\u001b[0m\u001b[0;34m%\u001b[0m\u001b[0;34m(\u001b[0m\u001b[0mlen\u001b[0m\u001b[0;34m(\u001b[0m\u001b[0mdictio_tags_values\u001b[0m\u001b[0;34m.\u001b[0m\u001b[0mkeys\u001b[0m\u001b[0;34m(\u001b[0m\u001b[0;34m)\u001b[0m\u001b[0;34m)\u001b[0m\u001b[0;34m)\u001b[0m\u001b[0;34m\u001b[0m\u001b[0m\n",
      "\u001b[0;31mIndexError\u001b[0m: list assignment index out of range"
     ]
    }
   ],
   "source": [
    "# Getting the set of tags:\n",
    "list_tags=get_set_tags(training_set)\n",
    "list_tags=remove_objects(list_tags)\n",
    "\n",
    "# creating dictionaries:\n",
    "dictio_tag_index=create_tag_index_dictio(training_set)\n",
    "\n",
    "# creating new dataframe:\n",
    "N = training_set.shape[0]\n",
    "tags_valuesDF=get_tagsDF(dictio_tag_index,training_set)"
   ]
  },
  {
   "cell_type": "code",
   "execution_count": null,
   "metadata": {
    "collapsed": true
   },
   "outputs": [],
   "source": []
  },
  {
   "cell_type": "code",
   "execution_count": null,
   "metadata": {
    "collapsed": true
   },
   "outputs": [],
   "source": []
  },
  {
   "cell_type": "code",
   "execution_count": 139,
   "metadata": {
    "collapsed": false
   },
   "outputs": [
    {
     "data": {
      "text/plain": [
       "0             822\n",
       "1             381\n",
       "2             347\n",
       "FirstView     299\n",
       "Na            102\n",
       "OtherView      48\n",
       "SecondView     17\n",
       "ThirdView       9\n",
       "255             7\n",
       "FourthView      2\n",
       "Name: slotvisibility, dtype: int64"
      ]
     },
     "execution_count": 139,
     "metadata": {},
     "output_type": "execute_result"
    }
   ],
   "source": [
    "data[data.click==1][value].value_counts()[0:10]"
   ]
  },
  {
   "cell_type": "code",
   "execution_count": 140,
   "metadata": {
    "collapsed": false
   },
   "outputs": [
    {
     "data": {
      "text/plain": [
       "0             1115365\n",
       "2              707197\n",
       "1              300270\n",
       "Na             191208\n",
       "FirstView      155958\n",
       "OtherView      129912\n",
       "SecondView      34160\n",
       "ThirdView       20723\n",
       "255             20049\n",
       "FourthView      19728\n",
       "Name: slotvisibility, dtype: int64"
      ]
     },
     "execution_count": 140,
     "metadata": {},
     "output_type": "execute_result"
    }
   ],
   "source": [
    "data[data.click==0][value].value_counts()[0:10]"
   ]
  },
  {
   "cell_type": "code",
   "execution_count": 141,
   "metadata": {
    "collapsed": false
   },
   "outputs": [
    {
     "data": {
      "text/plain": [
       "0             79\n",
       "2             48\n",
       "1             39\n",
       "FirstView     35\n",
       "Na            10\n",
       "OtherView      9\n",
       "SecondView     3\n",
       "255            2\n",
       "FourthView     1\n",
       "Name: slotvisibility, dtype: int64"
      ]
     },
     "execution_count": 141,
     "metadata": {},
     "output_type": "execute_result"
    }
   ],
   "source": [
    "data_val[data_val.click==1][value].value_counts()[0:10]"
   ]
  },
  {
   "cell_type": "code",
   "execution_count": 142,
   "metadata": {
    "collapsed": false
   },
   "outputs": [
    {
     "data": {
      "text/plain": [
       "0             123767\n",
       "2              78598\n",
       "1              33521\n",
       "Na             21124\n",
       "FirstView      17237\n",
       "OtherView      14474\n",
       "SecondView      3816\n",
       "ThirdView       2416\n",
       "255             2240\n",
       "FourthView      2214\n",
       "Name: slotvisibility, dtype: int64"
      ]
     },
     "execution_count": 142,
     "metadata": {},
     "output_type": "execute_result"
    }
   ],
   "source": [
    "data_val[data_val.click==0][value].value_counts()[0:10]"
   ]
  },
  {
   "cell_type": "code",
   "execution_count": 126,
   "metadata": {
    "collapsed": false
   },
   "outputs": [
    {
     "data": {
      "text/plain": [
       "1458    59789\n",
       "3386    55559\n",
       "3427    50149\n",
       "3476    38630\n",
       "3358    34038\n",
       "2821    25628\n",
       "2259    16276\n",
       "2261    13499\n",
       "2997     6181\n",
       "Name: advertiser, dtype: int64"
      ]
     },
     "execution_count": 126,
     "metadata": {},
     "output_type": "execute_result"
    }
   ],
   "source": [
    "data_test[value].value_counts()[0:10]"
   ]
  },
  {
   "cell_type": "code",
   "execution_count": 150,
   "metadata": {
    "collapsed": false
   },
   "outputs": [],
   "source": [
    "x=pd.get_dummies(data_0.apply(pd.Series).stack()).sum(level=0)\n"
   ]
  },
  {
   "cell_type": "code",
   "execution_count": null,
   "metadata": {
    "collapsed": true
   },
   "outputs": [],
   "source": []
  },
  {
   "cell_type": "code",
   "execution_count": null,
   "metadata": {
    "collapsed": true
   },
   "outputs": [],
   "source": []
  },
  {
   "cell_type": "code",
   "execution_count": null,
   "metadata": {
    "collapsed": true
   },
   "outputs": [],
   "source": []
  },
  {
   "cell_type": "code",
   "execution_count": null,
   "metadata": {
    "collapsed": false
   },
   "outputs": [],
   "source": [
    "len(set(data.domain))"
   ]
  },
  {
   "cell_type": "code",
   "execution_count": null,
   "metadata": {
    "collapsed": false
   },
   "outputs": [],
   "source": [
    "x=data[0:100].iterrows()"
   ]
  },
  {
   "cell_type": "code",
   "execution_count": null,
   "metadata": {
    "collapsed": false
   },
   "outputs": [],
   "source": [
    "next(x)"
   ]
  },
  {
   "cell_type": "code",
   "execution_count": null,
   "metadata": {
    "collapsed": true
   },
   "outputs": [],
   "source": [
    "instance = {'weekday': row[1], 'hour': row[2], 'region': row[8], \\\n",
    "            'city': row[9], 'adexchange': row[10], 'slotwidth': row[15], 'slotheight': row[16], \\\n",
    "            'slotvisibility': row[17], 'slotformat': row[18], 'slotprice': float(row[19]) / STD_SLOTPRICE, \\\n",
    "            'advertiser': row[24]}"
   ]
  },
  {
   "cell_type": "code",
   "execution_count": null,
   "metadata": {
    "collapsed": true
   },
   "outputs": [],
   "source": [
    "# validation set:\n",
    "#filepath_val=\"../dataset/validation.csv\"\n",
    "#data_val=pd.read_csv(filepath_val)\n",
    "\n",
    "#validation_set=data_val[data_val[\"bidprice\"]>data_val[\"payprice\"]]\n",
    "#validation_set=validation_set.reset_index(drop=True)\n",
    "#print \"validation set: %d rows\"%(validation_set.shape[0])"
   ]
  },
  {
   "cell_type": "code",
   "execution_count": null,
   "metadata": {
    "collapsed": true
   },
   "outputs": [],
   "source": [
    "def drop_inconsistent(data):\n",
    "    if \"bidprice\" in data.columns:\n",
    "        data=data[data[\"bidprice\"]>data[\"payprice\"]]\n",
    "        return data.reset_index(drop=True)\n",
    "    \n"
   ]
  },
  {
   "cell_type": "code",
   "execution_count": null,
   "metadata": {
    "collapsed": false
   },
   "outputs": [],
   "source": [
    "# Droping inconsistent data:\n",
    "training_set=data[data[\"bidprice\"]>data[\"payprice\"]]\n",
    "training_set=training_set.reset_index(drop=True)\n",
    "print \"training set: %d rows\"%(training_set.shape[0])\n",
    "\n",
    "# Droping columns that we don't use:\n",
    "training_set.drop(columns_to_drop, axis=1, inplace=True)\n",
    "print \"remaining cols: %d\" % (training_set.shape[1])"
   ]
  },
  {
   "cell_type": "code",
   "execution_count": null,
   "metadata": {
    "collapsed": false
   },
   "outputs": [],
   "source": [
    "# Getting the set of tags:\n",
    "list_tags=get_set_tags(training_set)\n",
    "list_tags=remove_objects(list_tags)\n",
    "\n",
    "# creating dictionaries:\n",
    "dictio_tag_index=create_tag_index_dictio(training_set)\n",
    "dictio_os_browser=create_tag_index_dictio(training_set,\"useragent\",\"_\")\n",
    "\n",
    "# creating new dataframe:\n",
    "N = training_set.shape[0]\n",
    "tags_valuesDF=get_tagsDF(dictio_tag_index,training_set)\n",
    "os_browserDF=get_tagsDF(dictio_os_browser,training_set)"
   ]
  },
  {
   "cell_type": "code",
   "execution_count": null,
   "metadata": {
    "collapsed": true
   },
   "outputs": [],
   "source": [
    "# Creating categorical Variables:\n",
    "training_set=pd.get_dummies(training_set,columns=columns_to_dummy)\n",
    "normalize(training_set)"
   ]
  },
  {
   "cell_type": "code",
   "execution_count": null,
   "metadata": {
    "collapsed": false
   },
   "outputs": [],
   "source": [
    "# Concatenating\n",
    "clean_data = pd.concat([training_set, tags_valuesDF,os_browserDF], axis=1)\n",
    "clean_data.drop([\"useragent\",\"usertag\"],axis=1,inplace=True)\n",
    "\n",
    "print(\"--- %s seconds ---\" % (time.time() - start_time))"
   ]
  },
  {
   "cell_type": "code",
   "execution_count": null,
   "metadata": {
    "collapsed": false
   },
   "outputs": [],
   "source": [
    "del(data)\n",
    "del(training_set)\n",
    "clean_data.head()"
   ]
  },
  {
   "cell_type": "code",
   "execution_count": null,
   "metadata": {
    "collapsed": false
   },
   "outputs": [],
   "source": [
    "import copy\n",
    "clean_data1=copy.deepcopy(clean_data)"
   ]
  },
  {
   "cell_type": "code",
   "execution_count": null,
   "metadata": {
    "collapsed": false
   },
   "outputs": [],
   "source": [
    "clean_data1.head()"
   ]
  },
  {
   "cell_type": "code",
   "execution_count": null,
   "metadata": {
    "collapsed": false
   },
   "outputs": [],
   "source": []
  },
  {
   "cell_type": "code",
   "execution_count": null,
   "metadata": {
    "collapsed": true
   },
   "outputs": [],
   "source": []
  },
  {
   "cell_type": "code",
   "execution_count": null,
   "metadata": {
    "collapsed": true
   },
   "outputs": [],
   "source": []
  },
  {
   "cell_type": "code",
   "execution_count": null,
   "metadata": {
    "collapsed": true
   },
   "outputs": [],
   "source": [
    "clean_data.drop(columns_to_drop, axis=1, inplace=True)"
   ]
  },
  {
   "cell_type": "code",
   "execution_count": null,
   "metadata": {
    "collapsed": false
   },
   "outputs": [],
   "source": [
    "clean_data.shape"
   ]
  },
  {
   "cell_type": "code",
   "execution_count": null,
   "metadata": {
    "collapsed": true
   },
   "outputs": [],
   "source": [
    "x_0=clean_data[clean_data.click==0]\n",
    "x_1=clean_data[clean_data.click==1]"
   ]
  },
  {
   "cell_type": "code",
   "execution_count": null,
   "metadata": {
    "collapsed": false
   },
   "outputs": [],
   "source": [
    "x_0.shape"
   ]
  },
  {
   "cell_type": "code",
   "execution_count": null,
   "metadata": {
    "collapsed": false
   },
   "outputs": [],
   "source": [
    "x_1.shape"
   ]
  },
  {
   "cell_type": "code",
   "execution_count": null,
   "metadata": {
    "collapsed": true
   },
   "outputs": [],
   "source": []
  },
  {
   "cell_type": "code",
   "execution_count": null,
   "metadata": {
    "collapsed": true
   },
   "outputs": [],
   "source": []
  },
  {
   "cell_type": "code",
   "execution_count": null,
   "metadata": {
    "collapsed": false
   },
   "outputs": [],
   "source": [
    "X_train=np.array(clean_data)\n",
    "X_train=X_train[:,1:]"
   ]
  },
  {
   "cell_type": "code",
   "execution_count": null,
   "metadata": {
    "collapsed": false
   },
   "outputs": [],
   "source": [
    "X_train.shape"
   ]
  },
  {
   "cell_type": "code",
   "execution_count": null,
   "metadata": {
    "collapsed": false
   },
   "outputs": [],
   "source": [
    "from sklearn.decomposition import PCA\n",
    "X = np.array(x_1)\n",
    "X = X[:,1:]\n",
    "pca = PCA(n_components=200)\n",
    "pca.fit(X)\n"
   ]
  },
  {
   "cell_type": "code",
   "execution_count": null,
   "metadata": {
    "collapsed": false
   },
   "outputs": [],
   "source": [
    "plt.plot(pca.explained_variance_ratio_)"
   ]
  },
  {
   "cell_type": "code",
   "execution_count": null,
   "metadata": {
    "collapsed": false
   },
   "outputs": [],
   "source": [
    "pca_x1=pca.fit_transform(x_1)"
   ]
  },
  {
   "cell_type": "code",
   "execution_count": null,
   "metadata": {
    "collapsed": false
   },
   "outputs": [],
   "source": [
    "pca_x1.shape"
   ]
  },
  {
   "cell_type": "code",
   "execution_count": null,
   "metadata": {
    "collapsed": true
   },
   "outputs": [],
   "source": [
    "# Saving file:\n",
    "data_save = np.array(clean_data)"
   ]
  },
  {
   "cell_type": "code",
   "execution_count": null,
   "metadata": {
    "collapsed": false
   },
   "outputs": [],
   "source": [
    "joblib.dump(data_save, './data_for_CTR/full_data_val.pkl', compress=True)"
   ]
  },
  {
   "cell_type": "code",
   "execution_count": null,
   "metadata": {
    "collapsed": false
   },
   "outputs": [],
   "source": [
    "# Saving one file:\n",
    "pd14=clean_data[clean_data.advertiser==1458].drop(\"advertiser\",axis=1)\n",
    "train14=np.array(pd14)\n",
    "#np.save(\"data_train_1458\",data_train_1458)"
   ]
  },
  {
   "cell_type": "code",
   "execution_count": null,
   "metadata": {
    "collapsed": true
   },
   "outputs": [],
   "source": [
    "train14=np.array(pd14)"
   ]
  },
  {
   "cell_type": "code",
   "execution_count": null,
   "metadata": {
    "collapsed": false
   },
   "outputs": [],
   "source": [
    "clean_train\n",
    "joblib.dump(clean_train, './data_for_CTR/full_data.pkl', compress=True)"
   ]
  },
  {
   "cell_type": "code",
   "execution_count": null,
   "metadata": {
    "collapsed": false
   },
   "outputs": [],
   "source": [
    "#joblib.dump(train14, './data_for_CTR/val_data_1458.pkl', compress=True)"
   ]
  },
  {
   "cell_type": "code",
   "execution_count": null,
   "metadata": {
    "collapsed": false
   },
   "outputs": [],
   "source": [
    "#back14=joblib.load('test_dump.pkl')"
   ]
  },
  {
   "cell_type": "code",
   "execution_count": null,
   "metadata": {
    "collapsed": false
   },
   "outputs": [],
   "source": [
    "#pd14.to_csv(\"pd_14_val.csv\",index=False)"
   ]
  },
  {
   "cell_type": "code",
   "execution_count": null,
   "metadata": {
    "collapsed": false
   },
   "outputs": [],
   "source": []
  },
  {
   "cell_type": "code",
   "execution_count": null,
   "metadata": {
    "collapsed": true
   },
   "outputs": [],
   "source": []
  },
  {
   "cell_type": "code",
   "execution_count": null,
   "metadata": {
    "collapsed": true
   },
   "outputs": [],
   "source": []
  },
  {
   "cell_type": "code",
   "execution_count": null,
   "metadata": {
    "collapsed": true
   },
   "outputs": [],
   "source": [
    "# Author: Matt Terry <matt.terry@gmail.com>\n",
    "#\n",
    "# License: BSD 3 clause\n",
    "from __future__ import print_function\n",
    "\n",
    "import numpy as np\n",
    "\n",
    "from sklearn.base import BaseEstimator, TransformerMixin\n",
    "from sklearn.datasets import fetch_20newsgroups\n",
    "from sklearn.datasets.twenty_newsgroups import strip_newsgroup_footer\n",
    "from sklearn.datasets.twenty_newsgroups import strip_newsgroup_quoting\n",
    "from sklearn.decomposition import TruncatedSVD\n",
    "from sklearn.feature_extraction import DictVectorizer\n",
    "from sklearn.feature_extraction.text import TfidfVectorizer\n",
    "from sklearn.metrics import classification_report\n",
    "from sklearn.pipeline import FeatureUnion\n",
    "from sklearn.pipeline import Pipeline\n",
    "from sklearn.svm import SVC\n"
   ]
  },
  {
   "cell_type": "code",
   "execution_count": null,
   "metadata": {
    "collapsed": false
   },
   "outputs": [],
   "source": [
    "\n",
    "\n",
    "class ItemSelector(BaseEstimator, TransformerMixin):\n",
    "    \"\"\"For data grouped by feature, select subset of data at a provided key.\n",
    "\n",
    "    The data is expected to be stored in a 2D data structure, where the first\n",
    "    index is over features and the second is over samples.  i.e.\n",
    "\n",
    "    >> len(data[key]) == n_samples\n",
    "\n",
    "    Please note that this is the opposite convention to scikit-learn feature\n",
    "    matrixes (where the first index corresponds to sample).\n",
    "\n",
    "    ItemSelector only requires that the collection implement getitem\n",
    "    (data[key]).  Examples include: a dict of lists, 2D numpy array, Pandas\n",
    "    DataFrame, numpy record array, etc.\n",
    "\n",
    "    >> data = {'a': [1, 5, 2, 5, 2, 8],\n",
    "               'b': [9, 4, 1, 4, 1, 3]}\n",
    "    >> ds = ItemSelector(key='a')\n",
    "    >> data['a'] == ds.transform(data)\n",
    "\n",
    "    ItemSelector is not designed to handle data grouped by sample.  (e.g. a\n",
    "    list of dicts).  If your data is structured this way, consider a\n",
    "    transformer along the lines of `sklearn.feature_extraction.DictVectorizer`.\n",
    "\n",
    "    Parameters\n",
    "    ----------\n",
    "    key : hashable, required\n",
    "        The key corresponding to the desired value in a mappable.\n",
    "    \"\"\"\n",
    "    def __init__(self, key):\n",
    "        self.key = key\n",
    "\n",
    "    def fit(self, x, y=None):\n",
    "        return self\n",
    "\n",
    "    def transform(self, data_dict):\n",
    "        return data_dict[self.key]\n",
    "\n",
    "\n",
    "class TextStats(BaseEstimator, TransformerMixin):\n",
    "    \"\"\"Extract features from each document for DictVectorizer\"\"\"\n",
    "\n",
    "    def fit(self, x, y=None):\n",
    "        return self\n",
    "\n",
    "    def transform(self, posts):\n",
    "        return [{'length': len(text),\n",
    "                 'num_sentences': text.count('.')}\n",
    "                for text in posts]\n",
    "\n",
    "\n",
    "class SubjectBodyExtractor(BaseEstimator, TransformerMixin):\n",
    "    \"\"\"Extract the subject & body from a usenet post in a single pass.\n",
    "\n",
    "    Takes a sequence of strings and produces a dict of sequences.  Keys are\n",
    "    `subject` and `body`.\n",
    "    \"\"\"\n",
    "    def fit(self, x, y=None):\n",
    "        return self\n",
    "\n",
    "    def transform(self, posts):\n",
    "        features = np.recarray(shape=(len(posts),),\n",
    "                               dtype=[('subject', object), ('body', object)])\n",
    "        for i, text in enumerate(posts):\n",
    "            headers, _, bod = text.partition('\\n\\n')\n",
    "            bod = strip_newsgroup_footer(bod)\n",
    "            bod = strip_newsgroup_quoting(bod)\n",
    "            features['body'][i] = bod\n",
    "\n",
    "            prefix = 'Subject:'\n",
    "            sub = ''\n",
    "            for line in headers.split('\\n'):\n",
    "                if line.startswith(prefix):\n",
    "                    sub = line[len(prefix):]\n",
    "                    break\n",
    "            features['subject'][i] = sub\n",
    "\n",
    "        return features\n",
    "\n",
    "\n",
    "pipeline = Pipeline([\n",
    "    # Extract the subject & body\n",
    "    ('subjectbody', SubjectBodyExtractor()),\n",
    "\n",
    "    # Use FeatureUnion to combine the features from subject and body\n",
    "    ('union', FeatureUnion(\n",
    "        transformer_list=[\n",
    "\n",
    "            # Pipeline for pulling features from the post's subject line\n",
    "            ('subject', Pipeline([\n",
    "                ('selector', ItemSelector(key='subject')),\n",
    "                ('tfidf', TfidfVectorizer(min_df=50)),\n",
    "            ])),\n",
    "\n",
    "            # Pipeline for standard bag-of-words model for body\n",
    "            ('body_bow', Pipeline([\n",
    "                ('selector', ItemSelector(key='body')),\n",
    "                ('tfidf', TfidfVectorizer()),\n",
    "                ('best', TruncatedSVD(n_components=50)),\n",
    "            ])),\n",
    "\n",
    "            # Pipeline for pulling ad hoc features from post's body\n",
    "            ('body_stats', Pipeline([\n",
    "                ('selector', ItemSelector(key='body')),\n",
    "                ('stats', TextStats()),  # returns a list of dicts\n",
    "                ('vect', DictVectorizer()),  # list of dicts -> feature matrix\n",
    "            ])),\n",
    "\n",
    "        ],\n",
    "\n",
    "        # weight components in FeatureUnion\n",
    "        transformer_weights={\n",
    "            'subject': 0.8,\n",
    "            'body_bow': 0.5,\n",
    "            'body_stats': 1.0,\n",
    "        },\n",
    "    )),\n",
    "\n",
    "    # Use a SVC classifier on the combined features\n",
    "    ('svc', SVC(kernel='linear')),\n",
    "])\n",
    "\n",
    "# limit the list of categories to make running this example faster.\n",
    "categories = ['alt.atheism', 'talk.religion.misc']\n",
    "train = fetch_20newsgroups(random_state=1,\n",
    "                           subset='train',\n",
    "                           categories=categories,\n",
    "                           )\n",
    "test = fetch_20newsgroups(random_state=1,\n",
    "                          subset='test',\n",
    "                          categories=categories,\n",
    "                          )\n",
    "\n",
    "pipeline.fit(train.data, train.target)\n",
    "y = pipeline.predict(test.data)\n",
    "print(classification_report(y, test.target))"
   ]
  },
  {
   "cell_type": "code",
   "execution_count": null,
   "metadata": {
    "collapsed": true
   },
   "outputs": [],
   "source": []
  },
  {
   "cell_type": "code",
   "execution_count": null,
   "metadata": {
    "collapsed": true
   },
   "outputs": [],
   "source": []
  }
 ],
 "metadata": {
  "kernelspec": {
   "display_name": "Python 2",
   "language": "python",
   "name": "python2"
  },
  "language_info": {
   "codemirror_mode": {
    "name": "ipython",
    "version": 2
   },
   "file_extension": ".py",
   "mimetype": "text/x-python",
   "name": "python",
   "nbconvert_exporter": "python",
   "pygments_lexer": "ipython2",
   "version": "2.7.13"
  }
 },
 "nbformat": 4,
 "nbformat_minor": 0
}
