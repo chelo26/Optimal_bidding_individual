{
 "cells": [
  {
   "cell_type": "code",
   "execution_count": 20,
   "metadata": {
    "collapsed": false
   },
   "outputs": [
    {
     "name": "stdout",
     "output_type": "stream",
     "text": [
      "Populating the interactive namespace from numpy and matplotlib\n"
     ]
    }
   ],
   "source": [
    "# Libraries:\n",
    "import pandas as pd\n",
    "import numpy as np\n",
    "from __future__ import division\n",
    "import matplotlib.pyplot as plt\n",
    "#plt.style.use('fivethirtyeight')\n",
    "%pylab inline\n",
    "import time\n",
    "import joblib\n",
    "from sklearn import linear_model\n",
    "from sklearn.model_selection import train_test_split\n",
    "from sklearn import ensemble"
   ]
  },
  {
   "cell_type": "code",
   "execution_count": 22,
   "metadata": {
    "collapsed": false
   },
   "outputs": [],
   "source": [
    "# Loading data:\n",
    "start_time=time.time()\n",
    "train_data=joblib.load('./data_for_CTR/full_data.pkl')\n",
    "# Separating training data in features and targets:\n",
    "X_train=train_data[:,1:]\n",
    "y_train=train_data[:,0]"
   ]
  },
  {
   "cell_type": "code",
   "execution_count": 23,
   "metadata": {
    "collapsed": true
   },
   "outputs": [],
   "source": [
    "# Same for validation\n",
    "val_data=joblib.load('./data_for_CTR/full_data_val.pkl')\n",
    "X_val=val_data[:,1:]\n",
    "y_val=val_data[:,0]"
   ]
  },
  {
   "cell_type": "code",
   "execution_count": 31,
   "metadata": {
    "collapsed": false
   },
   "outputs": [
    {
     "name": "stdout",
     "output_type": "stream",
     "text": [
      "1 rebalace to : 0.99926 \n"
     ]
    }
   ],
   "source": [
    "# class weights:\n",
    "neg_w=np.sum(y_train)/len(y_train)\n",
    "pos_w=1-neg_w\n",
    "print \"1 rebalace to : %0.5f \"%pos_w"
   ]
  },
  {
   "cell_type": "code",
   "execution_count": 32,
   "metadata": {
    "collapsed": true
   },
   "outputs": [],
   "source": [
    "#model = ensemble.RandomForestClassifier(n_estimators=20,class_weight={1:pos_w,0:neg_w})\n",
    "model=linear_model.SGDClassifier(learning_rate='optimal',n_iter=20,loss=\"log\",penalty='elasticnet',class_weight={1:pos_w,0:neg_w})#C=1000,class_weight={1:bal},penalty='l1'\n",
    "# Add solver=\"sag\""
   ]
  },
  {
   "cell_type": "code",
   "execution_count": 33,
   "metadata": {
    "collapsed": false
   },
   "outputs": [
    {
     "name": "stdout",
     "output_type": "stream",
     "text": [
      "model fitted\n",
      "predictions made\n",
      "score : 0.81466364119\n"
     ]
    }
   ],
   "source": [
    "# Fitting the model\n",
    "model.fit(X_train,y_train)\n",
    "print \"model fitted\"\n",
    "y_pred=model.predict(X_val)\n",
    "print \"predictions made\"\n",
    "print \"score : \" +str(model.score(X_val,y_val))"
   ]
  },
  {
   "cell_type": "code",
   "execution_count": 34,
   "metadata": {
    "collapsed": false
   },
   "outputs": [
    {
     "data": {
      "text/plain": [
       "0.69965456419807726"
      ]
     },
     "execution_count": 34,
     "metadata": {},
     "output_type": "execute_result"
    }
   ],
   "source": [
    "from sklearn.metrics import roc_auc_score\n",
    "from sklearn.metrics import precision_score\n",
    "from sklearn.metrics import recall_score\n",
    "from sklearn.metrics import confusion_matrix\n",
    "roc_auc_score(y_val, y_pred)"
   ]
  },
  {
   "cell_type": "code",
   "execution_count": 35,
   "metadata": {
    "collapsed": false
   },
   "outputs": [
    {
     "name": "stdout",
     "output_type": "stream",
     "text": [
      "0.00233393505096\n",
      "0.584474885845\n"
     ]
    }
   ],
   "source": [
    "print precision_score(y_val,y_pred)\n",
    "print recall_score(y_val,y_pred)"
   ]
  },
  {
   "cell_type": "code",
   "execution_count": 36,
   "metadata": {
    "collapsed": false
   },
   "outputs": [
    {
     "data": {
      "text/plain": [
       "array([[240777,  54715],\n",
       "       [    91,    128]])"
      ]
     },
     "execution_count": 36,
     "metadata": {},
     "output_type": "execute_result"
    }
   ],
   "source": [
    "confusion_matrix(y_val,y_pred)"
   ]
  },
  {
   "cell_type": "code",
   "execution_count": 18,
   "metadata": {
    "collapsed": false
   },
   "outputs": [
    {
     "data": {
      "text/plain": [
       "0.8"
      ]
     },
     "execution_count": 18,
     "metadata": {},
     "output_type": "execute_result"
    }
   ],
   "source": [
    "40/50"
   ]
  },
  {
   "cell_type": "code",
   "execution_count": null,
   "metadata": {
    "collapsed": true
   },
   "outputs": [],
   "source": []
  }
 ],
 "metadata": {
  "kernelspec": {
   "display_name": "Python 2",
   "language": "python",
   "name": "python2"
  },
  "language_info": {
   "codemirror_mode": {
    "name": "ipython",
    "version": 2
   },
   "file_extension": ".py",
   "mimetype": "text/x-python",
   "name": "python",
   "nbconvert_exporter": "python",
   "pygments_lexer": "ipython2",
   "version": "2.7.13"
  }
 },
 "nbformat": 4,
 "nbformat_minor": 0
}
